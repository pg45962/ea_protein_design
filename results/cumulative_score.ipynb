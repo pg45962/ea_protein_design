{
 "cells": [
  {
   "cell_type": "code",
   "execution_count": 44,
   "id": "71af628e",
   "metadata": {},
   "outputs": [],
   "source": [
    "import pandas as pd\n",
    "from Bio import SeqIO"
   ]
  },
  {
   "cell_type": "code",
   "execution_count": 45,
   "id": "1ac3d0b6",
   "metadata": {},
   "outputs": [],
   "source": [
    "#create a cumulative score to select a \"best\" protein sequence"
   ]
  },
  {
   "cell_type": "code",
   "execution_count": 46,
   "id": "62a68201",
   "metadata": {},
   "outputs": [],
   "source": [
    "vae_no_ea = pd.read_csv('/Users/alexandre/Desktop/VAE_cov_res.csv')"
   ]
  },
  {
   "cell_type": "code",
   "execution_count": 47,
   "id": "324c1a16",
   "metadata": {},
   "outputs": [
    {
     "data": {
      "text/html": [
       "<div>\n",
       "<style scoped>\n",
       "    .dataframe tbody tr th:only-of-type {\n",
       "        vertical-align: middle;\n",
       "    }\n",
       "\n",
       "    .dataframe tbody tr th {\n",
       "        vertical-align: top;\n",
       "    }\n",
       "\n",
       "    .dataframe thead th {\n",
       "        text-align: right;\n",
       "    }\n",
       "</style>\n",
       "<table border=\"1\" class=\"dataframe\">\n",
       "  <thead>\n",
       "    <tr style=\"text-align: right;\">\n",
       "      <th></th>\n",
       "      <th>proteins</th>\n",
       "      <th>solubility_rules</th>\n",
       "      <th>synthesis_rules</th>\n",
       "    </tr>\n",
       "  </thead>\n",
       "  <tbody>\n",
       "    <tr>\n",
       "      <th>0</th>\n",
       "      <td>MAWIYVILAIIEIFVIGLKHAEGYTLEALGILISFILLSRAIKKLP...</td>\n",
       "      <td>2.0</td>\n",
       "      <td>45.0</td>\n",
       "    </tr>\n",
       "    <tr>\n",
       "      <th>1</th>\n",
       "      <td>MAWIYVILAIIEIFVIGLKHAEGYTLEALGILISFILLSRAIKKLP...</td>\n",
       "      <td>2.0</td>\n",
       "      <td>45.0</td>\n",
       "    </tr>\n",
       "    <tr>\n",
       "      <th>2</th>\n",
       "      <td>MAWIYVILAIIEIFVIGLKHAEGYTLEALGIIISFILLSRAIKKLP...</td>\n",
       "      <td>2.0</td>\n",
       "      <td>45.0</td>\n",
       "    </tr>\n",
       "    <tr>\n",
       "      <th>3</th>\n",
       "      <td>MAWIYVILAIIEIFVIGLKHAEGYTLEALGILISFILLSRAIKKLP...</td>\n",
       "      <td>2.0</td>\n",
       "      <td>45.0</td>\n",
       "    </tr>\n",
       "    <tr>\n",
       "      <th>4</th>\n",
       "      <td>MAWIYVILAIIEIFVIGLKHAEGYTLEALGILISFILLSRAIKKLP...</td>\n",
       "      <td>2.0</td>\n",
       "      <td>45.0</td>\n",
       "    </tr>\n",
       "  </tbody>\n",
       "</table>\n",
       "</div>"
      ],
      "text/plain": [
       "                                            proteins  solubility_rules  \\\n",
       "0  MAWIYVILAIIEIFVIGLKHAEGYTLEALGILISFILLSRAIKKLP...               2.0   \n",
       "1  MAWIYVILAIIEIFVIGLKHAEGYTLEALGILISFILLSRAIKKLP...               2.0   \n",
       "2  MAWIYVILAIIEIFVIGLKHAEGYTLEALGIIISFILLSRAIKKLP...               2.0   \n",
       "3  MAWIYVILAIIEIFVIGLKHAEGYTLEALGILISFILLSRAIKKLP...               2.0   \n",
       "4  MAWIYVILAIIEIFVIGLKHAEGYTLEALGILISFILLSRAIKKLP...               2.0   \n",
       "\n",
       "   synthesis_rules  \n",
       "0             45.0  \n",
       "1             45.0  \n",
       "2             45.0  \n",
       "3             45.0  \n",
       "4             45.0  "
      ]
     },
     "execution_count": 47,
     "metadata": {},
     "output_type": "execute_result"
    }
   ],
   "source": [
    "vae_no_ea.head()"
   ]
  },
  {
   "cell_type": "code",
   "execution_count": 48,
   "id": "5690cf0d",
   "metadata": {},
   "outputs": [],
   "source": [
    "score1 = vae_no_ea['synthesis_rules'] / vae_no_ea['solubility_rules']\n",
    "proteins1 = vae_no_ea['proteins']\n",
    "new_data1 = {'proteins': proteins1,'score':score1}\n",
    "df1 = pd.DataFrame(new_data1)"
   ]
  },
  {
   "cell_type": "code",
   "execution_count": 49,
   "id": "5125a308",
   "metadata": {},
   "outputs": [
    {
     "data": {
      "text/html": [
       "<div>\n",
       "<style scoped>\n",
       "    .dataframe tbody tr th:only-of-type {\n",
       "        vertical-align: middle;\n",
       "    }\n",
       "\n",
       "    .dataframe tbody tr th {\n",
       "        vertical-align: top;\n",
       "    }\n",
       "\n",
       "    .dataframe thead th {\n",
       "        text-align: right;\n",
       "    }\n",
       "</style>\n",
       "<table border=\"1\" class=\"dataframe\">\n",
       "  <thead>\n",
       "    <tr style=\"text-align: right;\">\n",
       "      <th></th>\n",
       "      <th>proteins</th>\n",
       "      <th>score</th>\n",
       "    </tr>\n",
       "  </thead>\n",
       "  <tbody>\n",
       "    <tr>\n",
       "      <th>0</th>\n",
       "      <td>MAWIYVILAIIEIFVIGLKHAEGYTLEALGILISFILLSRAIKKLP...</td>\n",
       "      <td>22.5</td>\n",
       "    </tr>\n",
       "    <tr>\n",
       "      <th>1</th>\n",
       "      <td>MAWIYVILAIIEIFVIGLKHAEGYTLEALGILISFILLSRAIKKLP...</td>\n",
       "      <td>22.5</td>\n",
       "    </tr>\n",
       "    <tr>\n",
       "      <th>2</th>\n",
       "      <td>MAWIYVILAIIEIFVIGLKHAEGYTLEALGIIISFILLSRAIKKLP...</td>\n",
       "      <td>22.5</td>\n",
       "    </tr>\n",
       "    <tr>\n",
       "      <th>3</th>\n",
       "      <td>MAWIYVILAIIEIFVIGLKHAEGYTLEALGILISFILLSRAIKKLP...</td>\n",
       "      <td>22.5</td>\n",
       "    </tr>\n",
       "    <tr>\n",
       "      <th>4</th>\n",
       "      <td>MAWIYVILAIIEIFVIGLKHAEGYTLEALGILISFILLSRAIKKLP...</td>\n",
       "      <td>22.5</td>\n",
       "    </tr>\n",
       "  </tbody>\n",
       "</table>\n",
       "</div>"
      ],
      "text/plain": [
       "                                            proteins  score\n",
       "0  MAWIYVILAIIEIFVIGLKHAEGYTLEALGILISFILLSRAIKKLP...   22.5\n",
       "1  MAWIYVILAIIEIFVIGLKHAEGYTLEALGILISFILLSRAIKKLP...   22.5\n",
       "2  MAWIYVILAIIEIFVIGLKHAEGYTLEALGIIISFILLSRAIKKLP...   22.5\n",
       "3  MAWIYVILAIIEIFVIGLKHAEGYTLEALGILISFILLSRAIKKLP...   22.5\n",
       "4  MAWIYVILAIIEIFVIGLKHAEGYTLEALGILISFILLSRAIKKLP...   22.5"
      ]
     },
     "execution_count": 49,
     "metadata": {},
     "output_type": "execute_result"
    }
   ],
   "source": [
    "df1.head()"
   ]
  },
  {
   "cell_type": "code",
   "execution_count": 50,
   "id": "0acd9796",
   "metadata": {},
   "outputs": [],
   "source": [
    "df1= df1.sort_values(by='score', ascending=True)"
   ]
  },
  {
   "cell_type": "code",
   "execution_count": 51,
   "id": "70d46312",
   "metadata": {},
   "outputs": [
    {
     "data": {
      "text/html": [
       "<div>\n",
       "<style scoped>\n",
       "    .dataframe tbody tr th:only-of-type {\n",
       "        vertical-align: middle;\n",
       "    }\n",
       "\n",
       "    .dataframe tbody tr th {\n",
       "        vertical-align: top;\n",
       "    }\n",
       "\n",
       "    .dataframe thead th {\n",
       "        text-align: right;\n",
       "    }\n",
       "</style>\n",
       "<table border=\"1\" class=\"dataframe\">\n",
       "  <thead>\n",
       "    <tr style=\"text-align: right;\">\n",
       "      <th></th>\n",
       "      <th>proteins</th>\n",
       "      <th>score</th>\n",
       "    </tr>\n",
       "  </thead>\n",
       "  <tbody>\n",
       "    <tr>\n",
       "      <th>4020</th>\n",
       "      <td>MSNPKITKAYIFLVLALIEIISIGLKLSHGFSRPSLTIIGILVSFY...</td>\n",
       "      <td>7.0</td>\n",
       "    </tr>\n",
       "    <tr>\n",
       "      <th>4077</th>\n",
       "      <td>MSNPKITKAYIFLVLALIEIISIGLKLSHGFSRPSLTIIGILVSFY...</td>\n",
       "      <td>7.0</td>\n",
       "    </tr>\n",
       "    <tr>\n",
       "      <th>4079</th>\n",
       "      <td>MSNPKITKAYIFLVLALIEIISIGLKLSHGFSRPSLTIIGILVSFY...</td>\n",
       "      <td>7.0</td>\n",
       "    </tr>\n",
       "    <tr>\n",
       "      <th>4080</th>\n",
       "      <td>MSNPKITKAYIFLILALIEIISIGLKLSHGFSRPSLTIIGILVSFY...</td>\n",
       "      <td>7.0</td>\n",
       "    </tr>\n",
       "    <tr>\n",
       "      <th>4082</th>\n",
       "      <td>MSNPKITKAYIFLVLALIEIISIGLKLSHGFSRPSLTIIGILVSFY...</td>\n",
       "      <td>7.0</td>\n",
       "    </tr>\n",
       "  </tbody>\n",
       "</table>\n",
       "</div>"
      ],
      "text/plain": [
       "                                               proteins  score\n",
       "4020  MSNPKITKAYIFLVLALIEIISIGLKLSHGFSRPSLTIIGILVSFY...    7.0\n",
       "4077  MSNPKITKAYIFLVLALIEIISIGLKLSHGFSRPSLTIIGILVSFY...    7.0\n",
       "4079  MSNPKITKAYIFLVLALIEIISIGLKLSHGFSRPSLTIIGILVSFY...    7.0\n",
       "4080  MSNPKITKAYIFLILALIEIISIGLKLSHGFSRPSLTIIGILVSFY...    7.0\n",
       "4082  MSNPKITKAYIFLVLALIEIISIGLKLSHGFSRPSLTIIGILVSFY...    7.0"
      ]
     },
     "execution_count": 51,
     "metadata": {},
     "output_type": "execute_result"
    }
   ],
   "source": [
    "df1.head()\n"
   ]
  },
  {
   "cell_type": "code",
   "execution_count": 53,
   "id": "8ed1235d",
   "metadata": {},
   "outputs": [
    {
     "data": {
      "text/plain": [
       "'MSNPKITKAYIFLVLALIEIISIGLKLSHGFSRPSLTIIGILVSFYLLGKALKKIPTAKS'"
      ]
     },
     "execution_count": 53,
     "metadata": {},
     "output_type": "execute_result"
    }
   ],
   "source": [
    "df1['proteins'][4020]"
   ]
  }
 ],
 "metadata": {
  "kernelspec": {
   "display_name": "Python 3.10.4 ('vae')",
   "language": "python",
   "name": "python3"
  },
  "language_info": {
   "codemirror_mode": {
    "name": "ipython",
    "version": 3
   },
   "file_extension": ".py",
   "mimetype": "text/x-python",
   "name": "python",
   "nbconvert_exporter": "python",
   "pygments_lexer": "ipython3",
   "version": "3.10.4"
  },
  "vscode": {
   "interpreter": {
    "hash": "fa81317bc8526ad7a321e1f08ddcb672c11276ec68da48143470e0237268a323"
   }
  }
 },
 "nbformat": 4,
 "nbformat_minor": 5
}
